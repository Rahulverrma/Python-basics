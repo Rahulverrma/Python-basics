{
  "nbformat": 4,
  "nbformat_minor": 0,
  "metadata": {
    "colab": {
      "provenance": []
    },
    "kernelspec": {
      "name": "python3",
      "display_name": "Python 3"
    },
    "language_info": {
      "name": "python"
    }
  },
  "cells": [
    {
      "cell_type": "markdown",
      "source": [
        "Question 1.What is Python, and why is it popular.\n",
        "\n",
        "Answer: Python is a high-level, interpreted programming language known for its simplicity and readability. Created by Guido van Rossum and released in 1991, Python has gained popularity for several reasons\n",
        "\n",
        "1. Ease of Learning\n",
        "2. Versatility\n",
        "3. Active Community\n",
        "\n",
        "\n"
      ],
      "metadata": {
        "id": "BUk7a4w1nM_0"
      }
    },
    {
      "cell_type": "markdown",
      "source": [
        "Question 2. What is an interpreter in Python.\n",
        "\n",
        "Answer: Interpreter in python is a program that reads and executes Python code. It processes the code line by line, converting it into machine language that the computer can understand and execute. This approach allows for immediate execution and testing of code, facilitating an interactive programming experience. Unlike compilers, which translate the entire code before execution, interpreters handle code dynamically, making them suitable for scripting and rapid development.\n"
      ],
      "metadata": {
        "id": "xCS402vFoeD5"
      }
    },
    {
      "cell_type": "markdown",
      "source": [
        "Question 3. What are pre-defined keywords in Python\n",
        "\n",
        "Answer: The per-defined keywords in Python are as followiing\n",
        "        -: If, else, while and for\n"
      ],
      "metadata": {
        "id": "mUOSSASfpAW7"
      }
    },
    {
      "cell_type": "markdown",
      "source": [
        "Question 4.Can keywords be used as variable names.\n",
        "\n",
        "Answer: No, in Python, keywords are reserved words that define the language's syntax and structure. They cannot be used as variable names. For example, attempting to use class or if as a variable name will result in a syntax error.\n",
        "\n",
        "\n",
        "\n"
      ],
      "metadata": {
        "id": "3nxtMzDMps6Q"
      }
    },
    {
      "cell_type": "markdown",
      "source": [
        "Question 5. What is mutability in Python\n",
        "\n",
        "Answer: Mutability refers to whether an object's state can be changed after it's created. Mutable objects, like lists, dictionaries, and sets, allow modifications such as adding, removing, or changing elements. In contrast, immutable objects, such as strings, tuples, and numbers, cannot be altered once they're created; any modification results in a new object."
      ],
      "metadata": {
        "id": "in45dw7ZqGTE"
      }
    },
    {
      "cell_type": "markdown",
      "source": [
        "Question 6. Why are lists mutable, but tuples are immutable?\n",
        "\n",
        "Answer:\n",
        "\n",
        "Lists are mutable to allow dynamic modifications like adding or removing elements, making them flexible for various operations.\n",
        "\n",
        "Tuples are immutable to provide data integrity and performance benefits, as their fixed size allows for faster access and memory efficiency.\n",
        "\n"
      ],
      "metadata": {
        "id": "0p0TGqAAqiWb"
      }
    },
    {
      "cell_type": "markdown",
      "source": [
        "Question 7. What is the difference between == and is operators in Python?\n",
        "\n",
        "Answer:\n",
        "\n",
        "==: checks if the values of two objects are equal.\n",
        "\n",
        "is: checks if two variables point to the same object in memory."
      ],
      "metadata": {
        "id": "sRyYpypSrLFn"
      }
    },
    {
      "cell_type": "markdown",
      "source": [
        "Question 8. What are logical operators in Python?\n",
        "\n",
        "Answer:Logical operators are used to perform logical operations on conditional statements. The main logical operators are:\n",
        "\n",
        "and: Returns True if both operands are true.\n",
        "\n",
        "or: Returns True if at least one operand is true.\n",
        "\n",
        "not: Returns True if the operand is false."
      ],
      "metadata": {
        "id": "ZztqroQUrgTQ"
      }
    },
    {
      "cell_type": "markdown",
      "source": [
        "Question 9. What is type casting in Python?\n",
        "\n",
        "Answer: Type casting is the conversion of one data type to another. In Python, this can be done explicitly using functions like int(), float(), or str(). For example, converting a string to an integer: int('123')."
      ],
      "metadata": {
        "id": "KJ0S2sbZrvR7"
      }
    },
    {
      "cell_type": "markdown",
      "source": [
        "Quetion 10. What is the difference between implicit and explicit type casting?\n",
        "\n",
        "Answer:\n",
        "\n",
        "Implicit type casting (automatic type conversion) is performed by Python when it converts one data type to another without explicit instruction, such as converting an integer to a float during division.\n",
        "\n",
        "Explicit type casting requires the programmer to specify the conversion, using functions like int(), float(), or str(). For example: float(5) converts the integer 5 to a float."
      ],
      "metadata": {
        "id": "Mq45ARoJr65P"
      }
    },
    {
      "cell_type": "markdown",
      "source": [
        "Question 11. What is the purpose of conditional statements in Python?\n",
        "\n",
        "Answer: Conditional statements, like if, elif, and else, control the flow of a program based on conditions. They allow the program to make decisions and execute certain blocks of code depending on whether a condition is true or false."
      ],
      "metadata": {
        "id": "zDSW0BXDsGfH"
      }
    },
    {
      "cell_type": "markdown",
      "source": [
        "Question 12. How does the elif statement work?\n",
        "\n",
        "Answer: The elif (else if) statement checks another condition if the previous if or elif conditions were false. It's used to evaluate multiple expressions for truth value and execute a block of code as soon as one of the conditions is true."
      ],
      "metadata": {
        "id": "VC30NXhhsROe"
      }
    },
    {
      "cell_type": "markdown",
      "source": [
        "Question 13. What is the difference between for and while loops?\n",
        "\n",
        "Answer:\n",
        "\n",
        "A for loop iterates over a sequence (like a list, tuple, or range) and executes a block of code for each item.\n",
        "\n",
        "A while loop repeats a block of code as long as a condition is true. It's generally used when the number of iterations is not known beforehand."
      ],
      "metadata": {
        "id": "bqV1G6xCsbq7"
      }
    },
    {
      "cell_type": "markdown",
      "source": [
        "Question 14. Describe a scenario where a while loop is more suitable than a for loop.\n",
        "\n",
        "Answer: A while loop is more suitable when the number of iterations is not predetermined and depends on dynamic conditions.\n",
        "\n"
      ],
      "metadata": {
        "id": "8dZnnUg7smno"
      }
    },
    {
      "cell_type": "code",
      "source": [
        "#Question: Write a Python program to print \"Hello, World!\n",
        "\n",
        "print(\"Hello, World!\")"
      ],
      "metadata": {
        "colab": {
          "base_uri": "https://localhost:8080/"
        },
        "id": "fIi5K1L_veCi",
        "outputId": "e10c4d98-f918-4883-e01c-609cec15c4ca"
      },
      "execution_count": 10,
      "outputs": [
        {
          "output_type": "stream",
          "name": "stdout",
          "text": [
            "Hello, World!\n"
          ]
        }
      ]
    },
    {
      "cell_type": "code",
      "source": [
        "#Question: Write a Python program that displays your name and age\n",
        "\n",
        "name = \"Rahul verma\"\n",
        "age = 26\n",
        "\n",
        "print(\"name:\", name)\n",
        "print(\"age:\", age)"
      ],
      "metadata": {
        "colab": {
          "base_uri": "https://localhost:8080/"
        },
        "id": "99iylbUSwLpO",
        "outputId": "772164b6-43ed-47be-e44e-0a0dcefd454d"
      },
      "execution_count": 14,
      "outputs": [
        {
          "output_type": "stream",
          "name": "stdout",
          "text": [
            "name: Rahul verma\n",
            "age: 26\n"
          ]
        }
      ]
    },
    {
      "cell_type": "code",
      "source": [
        "#Question: Write code to print all the pre-defined keywords in Python using the keyword library\n",
        "\n",
        "import keyword\n",
        "\n",
        "print(keyword.kwlist)\n"
      ],
      "metadata": {
        "colab": {
          "base_uri": "https://localhost:8080/"
        },
        "id": "-PtdV4oExEHK",
        "outputId": "03a7ae3a-cfc4-408f-f1c9-d4269eb71193"
      },
      "execution_count": 16,
      "outputs": [
        {
          "output_type": "stream",
          "name": "stdout",
          "text": [
            "['False', 'None', 'True', 'and', 'as', 'assert', 'async', 'await', 'break', 'class', 'continue', 'def', 'del', 'elif', 'else', 'except', 'finally', 'for', 'from', 'global', 'if', 'import', 'in', 'is', 'lambda', 'nonlocal', 'not', 'or', 'pass', 'raise', 'return', 'try', 'while', 'with', 'yield']\n"
          ]
        }
      ]
    },
    {
      "cell_type": "code",
      "source": [
        "#Question: Write a program that checks if a given word is a Python keyword\n",
        "\n",
        "import keyword\n",
        "\n",
        "# Function to check if a word is a Python keyword\n",
        "def check_keyword(word):\n",
        "    if keyword.iskeyword(word):\n",
        "        print(f\"'{word}' is a Python keyword.\")\n",
        "    else:\n",
        "        print(f\"'{word}' is not a Python keyword.\")\n",
        "\n",
        "# Example usage\n",
        "word_to_check = input(\"Enter a word to check: \")\n",
        "check_keyword(word_to_check)\n"
      ],
      "metadata": {
        "colab": {
          "base_uri": "https://localhost:8080/"
        },
        "id": "JETXc93lym7o",
        "outputId": "618dbac5-3983-41c8-b873-02f6389246b4"
      },
      "execution_count": 19,
      "outputs": [
        {
          "output_type": "stream",
          "name": "stdout",
          "text": [
            "Enter a word to check: for\n",
            "'for' is a Python keyword.\n"
          ]
        }
      ]
    },
    {
      "cell_type": "code",
      "source": [
        "#Question: Create a list and tuple in Python, and demonstrate how attempting to change an element works differently\n",
        "#foreach\n",
        "\n",
        "# Creating a list and a tuple\n",
        "my_list = [10, 20, 30]\n",
        "my_tuple = (10, 20, 30)\n",
        "\n",
        "# Attempting to change the second element\n",
        "my_list[1] = 99  # This works because lists are mutable\n",
        "print(\"Updated list:\", my_list)\n",
        "\n",
        "try:\n",
        "    my_tuple[1] = 99  # This will raise an error because tuples are immutable\n",
        "except TypeError as e:\n",
        "    print(\"Error when trying to modify tuple:\", e)\n",
        "\n"
      ],
      "metadata": {
        "colab": {
          "base_uri": "https://localhost:8080/"
        },
        "id": "-_MedVBMy3GZ",
        "outputId": "7d9b7c49-6ffe-4530-c3aa-d67d46f3a909"
      },
      "execution_count": 20,
      "outputs": [
        {
          "output_type": "stream",
          "name": "stdout",
          "text": [
            "Updated list: [10, 99, 30]\n",
            "Error when trying to modify tuple: 'tuple' object does not support item assignment\n"
          ]
        }
      ]
    },
    {
      "cell_type": "code",
      "source": [
        "#Question: Write a function to demonstrate the behavior of mutable and immutable arguments\n",
        "\n",
        "def modify_data(immutable_data, mutable_data):\n",
        "    # Attempting to modify immutable data\n",
        "    immutable_data += 5\n",
        "    print(f\"Inside function, immutable_data = {immutable_data}\")\n",
        "\n",
        "    # Modifying mutable data\n",
        "    mutable_data.append(4)\n",
        "    print(f\"Inside function, mutable_data = {mutable_data}\")\n",
        "\n",
        "# Calling the function with an integer (immutable) and a list (mutable)\n",
        "immutable_value = 10\n",
        "mutable_value = [1, 2, 3]\n",
        "\n",
        "modify_data(immutable_value, mutable_value)\n",
        "\n",
        "# Checking the values after the function call\n",
        "print(f\"After function call, immutable_value = {immutable_value}\")\n",
        "print(f\"After function call, mutable_value = {mutable_value}\")\n"
      ],
      "metadata": {
        "colab": {
          "base_uri": "https://localhost:8080/"
        },
        "id": "amxJFX1YzhA5",
        "outputId": "2bb01f4a-daae-46ef-9079-60622bad0686"
      },
      "execution_count": 21,
      "outputs": [
        {
          "output_type": "stream",
          "name": "stdout",
          "text": [
            "Inside function, immutable_data = 15\n",
            "Inside function, mutable_data = [1, 2, 3, 4]\n",
            "After function call, immutable_value = 10\n",
            "After function call, mutable_value = [1, 2, 3, 4]\n"
          ]
        }
      ]
    },
    {
      "cell_type": "code",
      "source": [
        "#Question: Write a function to demonstrate the behavior of mutable and immutable arguments\n",
        "\n",
        "def demonstrate_mutable_immutable(mutable_arg, immutable_arg):\n",
        "    # Modifying the mutable argument (list)\n",
        "    print(\"Before modifying mutable_arg:\", mutable_arg)\n",
        "    mutable_arg.append(4)  # Adding an element to the list\n",
        "    print(\"After modifying mutable_arg:\", mutable_arg)\n",
        "\n",
        "    # Trying to modify the immutable argument (string)\n",
        "    print(\"Before modifying immutable_arg:\", immutable_arg)\n",
        "    immutable_arg = immutable_arg + \" world\"  # Reassigning to a new string (string is immutable)\n",
        "    print(\"After modifying immutable_arg:\", immutable_arg)\n",
        "\n",
        "\n",
        "# Testing the function with mutable and immutable arguments\n",
        "my_list = [1, 2, 3]\n",
        "my_string = \"Hello\"\n",
        "\n",
        "demonstrate_mutable_immutable(my_list, my_string)\n",
        "\n",
        "# Observe the changes to the original objects\n",
        "print(\"Original my_list after function:\", my_list)\n",
        "print(\"Original my_string after function:\", my_string)\n",
        "\n"
      ],
      "metadata": {
        "colab": {
          "base_uri": "https://localhost:8080/"
        },
        "id": "Lj8Nv6n00Bz3",
        "outputId": "2dd4626e-c723-4992-96df-d5df6ea6aa1a"
      },
      "execution_count": 22,
      "outputs": [
        {
          "output_type": "stream",
          "name": "stdout",
          "text": [
            "Before modifying mutable_arg: [1, 2, 3]\n",
            "After modifying mutable_arg: [1, 2, 3, 4]\n",
            "Before modifying immutable_arg: Hello\n",
            "After modifying immutable_arg: Hello world\n",
            "Original my_list after function: [1, 2, 3, 4]\n",
            "Original my_string after function: Hello\n"
          ]
        }
      ]
    },
    {
      "cell_type": "code",
      "source": [
        "#Question: Write a program to demonstrate the use of logical operators\n",
        "\n",
        "# Demonstrating logical operators: and, or, not\n",
        "\n",
        "# Sample variables\n",
        "a = 10\n",
        "b = 20\n",
        "c = 30\n",
        "\n",
        "# Using 'and' logical operator\n",
        "print(\"Using 'and' operator:\")\n",
        "if a < b and b < c:\n",
        "    print(\"Both conditions are true: a < b and b < c\")\n",
        "else:\n",
        "    print(\"One or both conditions are false.\")\n",
        "\n",
        "# Using 'or' logical operator\n",
        "print(\"\\nUsing 'or' operator:\")\n",
        "if a > b or b < c:\n",
        "    print(\"At least one of the conditions is true: a > b or b < c\")\n",
        "else:\n",
        "    print(\"Neither of the conditions is true.\")\n",
        "\n",
        "# Using 'not' logical operator\n",
        "print(\"\\nUsing 'not' operator:\")\n",
        "if not a == b:\n",
        "    print(\"The condition 'a == b' is false, so 'not' makes it true.\")\n",
        "else:\n",
        "    print(\"The condition 'a == b' is true.\")\n",
        "\n",
        "# Combine multiple logical operators\n",
        "print(\"\\nUsing multiple logical operators:\")\n",
        "if (a < b and b < c) or (a == 10):\n",
        "    print(\"The complex condition is true: a < b and b < c or a == 10\")\n",
        "else:\n",
        "    print(\"The complex condition is false.\")\n"
      ],
      "metadata": {
        "colab": {
          "base_uri": "https://localhost:8080/"
        },
        "id": "fdE5XZU50sCo",
        "outputId": "d69e6ec7-1f67-461d-a65a-609432c41b1e"
      },
      "execution_count": 23,
      "outputs": [
        {
          "output_type": "stream",
          "name": "stdout",
          "text": [
            "Using 'and' operator:\n",
            "Both conditions are true: a < b and b < c\n",
            "\n",
            "Using 'or' operator:\n",
            "At least one of the conditions is true: a > b or b < c\n",
            "\n",
            "Using 'not' operator:\n",
            "The condition 'a == b' is false, so 'not' makes it true.\n",
            "\n",
            "Using multiple logical operators:\n",
            "The complex condition is true: a < b and b < c or a == 10\n"
          ]
        }
      ]
    },
    {
      "cell_type": "code",
      "source": [
        "#Question: Write a Python program to convert user input from string to integer, float, and boolean types\n",
        "\n",
        "# Input from user\n",
        "user_input = input(\"Enter something: \")\n",
        "\n",
        "# Convert the input to an integer (if possible)\n",
        "try:\n",
        "    user_input_int = int(user_input)\n",
        "    print(f\"Converted to integer: {user_input_int}\")\n",
        "except ValueError:\n",
        "    print(\"Cannot convert to integer.\")\n",
        "\n",
        "# Convert the input to a float (if possible)\n",
        "try:\n",
        "    user_input_float = float(user_input)\n",
        "    print(f\"Converted to float: {user_input_float}\")\n",
        "except ValueError:\n",
        "    print(\"Cannot convert to float.\")\n",
        "\n",
        "# Convert the input to boolean (for example, 'True' becomes True, 'False' becomes False, anything else becomes True)\n",
        "if user_input.lower() in ['true', '1', 'yes', 'y']:\n",
        "    user_input_bool = True\n",
        "elif user_input.lower() in ['false', '0', 'no', 'n']:\n",
        "    user_input_bool = False\n",
        "else:\n",
        "    user_input_bool = bool(user_input)\n",
        "\n",
        "print(f\"Converted to boolean: {user_input_bool}\")\n"
      ],
      "metadata": {
        "id": "RYvQuvCr1A0K"
      },
      "execution_count": null,
      "outputs": []
    },
    {
      "cell_type": "code",
      "source": [
        "#Qestion: Write code to demonstrate type casting with list element\n",
        "\n",
        "# Original list with different types of elements\n",
        "original_list = [\"10\", \"3.14\", \"True\", \"50\"]\n",
        "\n",
        "# Converting the string elements to their appropriate types\n",
        "converted_list = [\n",
        "    int(original_list[0]),  # \"10\" -> 10 (int)\n",
        "    float(original_list[1]),  # \"3.14\" -> 3.14 (float)\n",
        "    bool(original_list[2]),  # \"True\" -> True (bool)\n",
        "    int(original_list[3])  # \"50\" -> 50 (int)\n",
        "]\n",
        "\n",
        "# Printing the original and converted lists\n",
        "print(\"Original List:\", original_list)\n",
        "print(\"Converted List:\", converted_list)\n"
      ],
      "metadata": {
        "id": "QxjDwNEZ1J6P"
      },
      "execution_count": null,
      "outputs": []
    },
    {
      "cell_type": "code",
      "source": [
        "#Question:  Write a program that checks if a number is positive, negative, or zero\n",
        "\n",
        "# Check if a number is positive, negative, or zero\n",
        "num = float(input(\"Enter a number: \"))\n",
        "\n",
        "if num > 0:\n",
        "    print(\"The number is positive.\")\n",
        "elif num < 0:\n",
        "    print(\"The number is negative.\")\n",
        "else:\n",
        "    print(\"The number is zero.\")\n"
      ],
      "metadata": {
        "id": "lcJ2o1Sn1uCK"
      },
      "execution_count": null,
      "outputs": []
    },
    {
      "cell_type": "code",
      "source": [
        "#Question: Write a for loop to print numbers from 1 to 10\n",
        "\n",
        "# Print numbers from 1 to 10\n",
        "for i in range(1, 11):\n",
        "    print(i)\n",
        "\n"
      ],
      "metadata": {
        "id": "_0zaK9Jo4QVy"
      },
      "execution_count": null,
      "outputs": []
    },
    {
      "cell_type": "code",
      "source": [
        "#Question: Write a Python program to find the sum of all even numbers between 1 and 50\n",
        "\n",
        "# Sum of all even numbers between 1 and 50\n",
        "sum_of_evens = 0\n",
        "for i in range(2, 51, 2):  # start at 2 and step by 2 (even numbers)\n",
        "    sum_of_evens += i\n",
        "\n",
        "print(\"The sum of all even numbers between 1 and 50 is:\", sum_of_evens)\n"
      ],
      "metadata": {
        "id": "A0PNFbOB4eHX"
      },
      "execution_count": null,
      "outputs": []
    },
    {
      "cell_type": "code",
      "source": [
        "#Question: Write a program to reverse a string using a while loop\n",
        "\n",
        "# Reverse a string using a while loop\n",
        "string = input(\"Enter a string: \")\n",
        "reversed_string = \"\"\n",
        "index = len(string) - 1\n",
        "\n",
        "while index >= 0:\n",
        "    reversed_string += string[index]\n",
        "    index -= 1\n",
        "\n",
        "print(\"Reversed string:\", reversed_string)\n",
        "\n"
      ],
      "metadata": {
        "id": "r2IEV-z54mVr"
      },
      "execution_count": null,
      "outputs": []
    },
    {
      "cell_type": "code",
      "source": [
        "#Question: Write a Python program to calculate the factorial of a number provided by the user using a while loop.\n",
        "\n",
        "# Calculate the factorial of a number using a while loop\n",
        "num = int(input(\"Enter a number to find its factorial: \"))\n",
        "factorial = 1\n",
        "\n",
        "while num > 1:\n",
        "    factorial *= num\n",
        "    num -= 1\n",
        "\n",
        "print(\"The factorial is:\", factorial)\n",
        "\n"
      ],
      "metadata": {
        "id": "xvU7vwl34vO8"
      },
      "execution_count": null,
      "outputs": []
    }
  ]
}